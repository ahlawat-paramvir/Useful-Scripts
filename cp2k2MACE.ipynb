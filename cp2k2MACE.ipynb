{
 "cells": [
  {
   "cell_type": "code",
   "execution_count": 1,
   "id": "62199ec7",
   "metadata": {},
   "outputs": [
    {
     "name": "stderr",
     "output_type": "stream",
     "text": [
      "/home/ahlawat/.local/lib/python3.9/site-packages/ase/utils/geometry.py:8: UserWarning: Moved to ase.geometry and ase.build\n",
      "  warnings.warn('Moved to ase.geometry and ase.build')\n",
      "/home/ahlawat/.local/lib/python3.9/site-packages/ase/lattice/spacegroup.py:5: UserWarning: Moved to ase.spacegroup\n",
      "  warnings.warn('Moved to ase.spacegroup')\n",
      "/home/ahlawat/.local/lib/python3.9/site-packages/ase/lattice/surface.py:17: UserWarning: Moved to ase.build\n",
      "  warnings.warn('Moved to ase.build')\n"
     ]
    }
   ],
   "source": [
    "import matplotlib.pyplot as plt\n",
    "from ase.optimize.sciopt import *               \n",
    "from ase.utils.geometry import *\n",
    "from ase.lattice.spacegroup import crystal\n",
    "from ase.visualize import *\n",
    "from ase.lattice.surface import surface\n",
    "from ase import Atoms\n",
    "from ase import io\n",
    "from ase.io.cif import read_cif\n",
    "from ase.io.vasp import write_vasp\n",
    "from abtem.visualize import show_atoms\n",
    "from ase.visualize.plot import plot_atoms\n",
    "from ase.build import add_adsorbate\n",
    "from ase.io.cp2k import iread_cp2k_dcd\n",
    "from ase.io.cp2k import read_cp2k_dcd\n",
    "from ase import neighborlist\n",
    "from ase.build import molecule\n",
    "from scipy import sparse\n",
    "from ase.io.trajectory import write_traj"
   ]
  },
  {
   "cell_type": "markdown",
   "id": "78e7008c",
   "metadata": {},
   "source": [
    "# convert CP2K DCD trajectory and xyz forces file to ACE/MACE training format"
   ]
  },
  {
   "cell_type": "code",
   "execution_count": null,
   "id": "2ca8b89a",
   "metadata": {},
   "outputs": [],
   "source": []
  },
  {
   "cell_type": "code",
   "execution_count": 137,
   "id": "cf4889e6",
   "metadata": {},
   "outputs": [],
   "source": [
    "import mdtraj as md\n",
    "traj = md.load_dcd('2H_SCAN_NPT-pos-1.dcd', top='slab_24.pdb')\n",
    "topology = traj.topology\n",
    "cell = []\n",
    "step = []\n",
    "forces = []\n",
    "energies = []\n",
    "num_atoms = 288\n",
    "with open(\"2H_SCAN_NPT-FORCES-frc-1.xyz\", 'r') as f:\n",
    "    lines = f.readlines()\n",
    "    for line in lines:\n",
    "        if str('   ')+str(num_atoms) not in line and not 'time' in line:\n",
    "            forces.append(line.strip())\n",
    "        if 'time' in line:\n",
    "            while True:\n",
    "                txt = line.split(',')[2]\n",
    "                energy = txt.split()[2]\n",
    "                energies.append(energy)\n",
    "                break"
   ]
  },
  {
   "cell_type": "code",
   "execution_count": 139,
   "id": "086a711c",
   "metadata": {},
   "outputs": [
    {
     "data": {
      "text/plain": [
       "17734.0"
      ]
     },
     "execution_count": 139,
     "metadata": {},
     "output_type": "execute_result"
    }
   ],
   "source": [
    "len(forces)/288"
   ]
  },
  {
   "cell_type": "code",
   "execution_count": 140,
   "id": "8b779c85",
   "metadata": {},
   "outputs": [
    {
     "data": {
      "text/plain": [
       "17734"
      ]
     },
     "execution_count": 140,
     "metadata": {},
     "output_type": "execute_result"
    }
   ],
   "source": [
    "len(energies)"
   ]
  },
  {
   "cell_type": "code",
   "execution_count": 125,
   "id": "15f159af",
   "metadata": {},
   "outputs": [
    {
     "data": {
      "text/plain": [
       "5107392"
      ]
     },
     "execution_count": 125,
     "metadata": {},
     "output_type": "execute_result"
    }
   ],
   "source": [
    "17734*288"
   ]
  },
  {
   "cell_type": "code",
   "execution_count": 141,
   "id": "a302def3",
   "metadata": {},
   "outputs": [],
   "source": [
    "with open(\"training.xyz\",'w') as f:\n",
    "    i = 0\n",
    "    j = 0\n",
    "    k = 0\n",
    "    for force in forces:\n",
    "        if (i%288==0):\n",
    "            k = 0\n",
    "            a = traj.unitcell_vectors[j]\n",
    "            b = np.asarray(a).reshape(-1)\n",
    "            energy = energies[j]\n",
    "            header = 'Lattice=\"{0:.4f} {1:.4f} {2:.4f} {3:.4f} {4:.4f}, {5:.4f} {6:.4f} {7:.4f} {8:.4f}\"' \\\n",
    "                     .format(b[0], b[1], b[2], b[3], b[4], b[5], b[6], b[7], b[8]) \\\n",
    "                     + ' ' + 'Properties=species:S:1:pos:R:3:force:R:3' + '  ' \\\n",
    "                     + 'virial=\"0 0 0 0 0 0 0 0 0\"' + '  '  \\\n",
    "                     + 'energy={}'.format(energy) + ' ' + 'config_type=2H_300 pbc=\"T T T\"'\n",
    "            f.write(\"{:}\\n\".format(header))\n",
    "            frame = traj.xyz[j]\n",
    "            j = j + 1 \n",
    "        x, y, z = frame[k]*10\n",
    "        species_name = (topology.atom(k)).name\n",
    "        f.write(\"{}\\t\".format(species_name))\n",
    "        f.write(\"{:12.8f}\\t  {:12.8f}\\t {:12.8f}\\t\".format(x,y,z))\n",
    "        f.write(\"{}\\n\".format(force[3:63]))\n",
    "        i = i + 1\n",
    "        k = k + 1"
   ]
  },
  {
   "cell_type": "code",
   "execution_count": 5,
   "id": "3007f981",
   "metadata": {},
   "outputs": [],
   "source": []
  },
  {
   "cell_type": "code",
   "execution_count": null,
   "id": "0a4beaf1",
   "metadata": {},
   "outputs": [],
   "source": [
    "# import mdtraj as md\n",
    "# traj = md.load_dcd('2H_SCAN_NPT-pos-1.dcd', top='slab_24.pdb')\n",
    "# myfile = open(\"output.xyz\",\"w\")\n",
    "# num_frames = len(traj.xyz)\n",
    "# for i in range(num_frames):\n",
    "#     frame = traj.xyz[i]\n",
    "#     a = traj.unitcell_vectors[i]\n",
    "#     b = np.asarray(a).reshape(-1)\n",
    "#     header = 'Lattice=\"{0:.4f} {1:.4f} {2:.4f} {3:.4f} {4:.4f}, {5:.4f} {6:.4f} {7:.4f} {8:.4f}\"' \\\n",
    "#                      .format(b[0], b[1], b[2], b[3], b[4], b[5], b[6], b[7], b[8]) \\\n",
    "#                      + ' ' + 'Properties=species:S:1:pos:R:3:force:R:3' + '  ' \\\n",
    "#                      + 'virial=\"0 0 0 0 0 0 0 0 0\"' + '  '  \\\n",
    "#                      +  'energy= number' + ' ' + 'config_type=2H_300 pbc=\"T T T\"'\n",
    "#     f.write(\"{:}\\n\".format(header))\n",
    "#     for j in range(len(frame)):\n",
    "#         x, y, z = frame[j]*10\n",
    "#         species_name = (topology.atom(j)).name\n",
    "#         myfile.write(\"{}\\t {}\\t {}\\t {}\\t \\n\".format(x,y,z, force))\n",
    "# myfile.close()"
   ]
  },
  {
   "cell_type": "code",
   "execution_count": null,
   "id": "dcea4439",
   "metadata": {},
   "outputs": [],
   "source": []
  }
 ],
 "metadata": {
  "kernelspec": {
   "display_name": "Python 3",
   "language": "python",
   "name": "python3"
  },
  "language_info": {
   "codemirror_mode": {
    "name": "ipython",
    "version": 3
   },
   "file_extension": ".py",
   "mimetype": "text/x-python",
   "name": "python",
   "nbconvert_exporter": "python",
   "pygments_lexer": "ipython3",
   "version": "3.9.12"
  }
 },
 "nbformat": 4,
 "nbformat_minor": 5
}
